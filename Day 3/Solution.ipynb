{
 "cells": [
  {
   "cell_type": "code",
   "execution_count": null,
   "metadata": {},
   "outputs": [],
   "source": [
    "import re\n",
    "\n",
    "line = \"\"\n",
    "with open(\"input.txt\") as f:\n",
    "    line = f.read().strip()\n",
    "\n",
    "sum = 0\n",
    "muls = re.findall(\"mul\\(\\d+,\\d+\\)\", line)\n",
    "for mul in muls:\n",
    "    (x, y) = re.findall(\"\\d+\", mul)\n",
    "    sum += int(x)*int(y)\n",
    "print(sum)\n",
    "\n",
    "enabled = True\n",
    "sum = 0\n",
    "muls = re.findall(\"(mul\\(\\d+,\\d+\\)|do\\(\\)|don't\\(\\))\", line)\n",
    "for mul in muls:\n",
    "    if mul == \"do()\":\n",
    "        enabled = True\n",
    "    elif mul == \"don't()\":\n",
    "        enabled = False\n",
    "    elif enabled:\n",
    "        (x, y) = re.findall(\"\\d+\", mul)\n",
    "        sum += int(x)*int(y)\n",
    "print(sum)"
   ]
  }
 ],
 "metadata": {
  "kernelspec": {
   "display_name": "Python 3",
   "language": "python",
   "name": "python3"
  },
  "language_info": {
   "codemirror_mode": {
    "name": "ipython",
    "version": 3
   },
   "file_extension": ".py",
   "mimetype": "text/x-python",
   "name": "python",
   "nbconvert_exporter": "python",
   "pygments_lexer": "ipython3",
   "version": "3.10.1"
  }
 },
 "nbformat": 4,
 "nbformat_minor": 2
}
