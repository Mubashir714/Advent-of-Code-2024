{
 "cells": [
  {
   "cell_type": "code",
   "execution_count": null,
   "metadata": {},
   "outputs": [],
   "source": [
    "def main():\n",
    "    with open('input.txt') as file:\n",
    "        data = [list(map(int, line.split())) for line in file]\n",
    "\n",
    "    safe = 0\n",
    "    for line in data:\n",
    "        if line in (sorted(line), sorted(line, reverse=True)) and all(1 <= abs(line[i + 1] - line[i]) <= 3 for i in range(len(line) - 1)):\n",
    "            safe += 1\n",
    "\n",
    "    print(safe)\n",
    "\n",
    "\n",
    "if __name__ == '__main__':\n",
    "    main()"
   ]
  },
  {
   "cell_type": "markdown",
   "metadata": {},
   "source": [
    "Part 2 "
   ]
  },
  {
   "cell_type": "code",
   "execution_count": null,
   "metadata": {},
   "outputs": [],
   "source": [
    "def main():\n",
    "    with open('input.txt') as file:\n",
    "        data = [list(map(int, line.split())) for line in file]\n",
    "\n",
    "    safe = 0\n",
    "    for full_line in data:\n",
    "        for j in range(len(full_line)):\n",
    "            line = full_line[:j] + full_line[j + 1:]\n",
    "            if line in (sorted(line), sorted(line, reverse=True)) and all(1 <= abs(line[i + 1] - line[i]) <= 3 for i in range(len(line) - 1)):\n",
    "                safe += 1\n",
    "                break\n",
    "\n",
    "    print(safe)\n",
    "\n",
    "\n",
    "if __name__ == '__main__':\n",
    "    main()"
   ]
  }
 ],
 "metadata": {
  "kernelspec": {
   "display_name": "Python 3",
   "language": "python",
   "name": "python3"
  },
  "language_info": {
   "codemirror_mode": {
    "name": "ipython",
    "version": 3
   },
   "file_extension": ".py",
   "mimetype": "text/x-python",
   "name": "python",
   "nbconvert_exporter": "python",
   "pygments_lexer": "ipython3",
   "version": "3.10.1"
  }
 },
 "nbformat": 4,
 "nbformat_minor": 2
}
