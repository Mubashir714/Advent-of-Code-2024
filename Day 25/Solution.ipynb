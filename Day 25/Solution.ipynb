{
 "cells": [
  {
   "cell_type": "code",
   "execution_count": null,
   "metadata": {},
   "outputs": [],
   "source": [
    "\n",
    "def schematic_to_heights(lines):\n",
    "    heights = []\n",
    "    width = len(lines[0])  # Assuming all lines are of the same width\n",
    "    for col in range(width):\n",
    "        height = 0\n",
    "        for row in range(len(lines)):\n",
    "            if lines[row][col] == '#':\n",
    "                height = row + 1\n",
    "            elif lines[row][col] == '.':\n",
    "                break\n",
    "        heights.append(height if lines[0][col] == '#' else len(lines) - height)\n",
    "    return heights\n",
    "\n",
    "# Read the input file\n",
    "input_path = 'input.txt'\n",
    "with open(input_path, 'r') as file:\n",
    "    data = file.read().strip().split('\\n\\n')\n",
    "\n",
    "# Separate locks and keys based on their definitions\n",
    "locks = []\n",
    "keys = []\n",
    "for block in data:\n",
    "    lines = block.splitlines()\n",
    "    if lines[0].startswith('#'):\n",
    "        locks.append(schematic_to_heights(lines))\n",
    "    else:\n",
    "        keys.append(schematic_to_heights(lines[::-1]))  # Reverse for keys\n",
    "\n",
    "# Check compatibility between locks and keys\n",
    "compatible_pairs = 0\n",
    "for lock in locks:\n",
    "    for key in keys:\n",
    "        if all(l + k <= len(lines) for l, k in zip(lock, key)):\n",
    "            compatible_pairs += 1\n",
    "\n",
    "compatible_pairs"
   ]
  }
 ],
 "metadata": {
  "kernelspec": {
   "display_name": "Python 3",
   "language": "python",
   "name": "python3"
  },
  "language_info": {
   "codemirror_mode": {
    "name": "ipython",
    "version": 3
   },
   "file_extension": ".py",
   "mimetype": "text/x-python",
   "name": "python",
   "nbconvert_exporter": "python",
   "pygments_lexer": "ipython3",
   "version": "3.10.1"
  }
 },
 "nbformat": 4,
 "nbformat_minor": 2
}
