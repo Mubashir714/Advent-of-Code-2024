{
 "cells": [
  {
   "cell_type": "code",
   "execution_count": null,
   "metadata": {},
   "outputs": [],
   "source": [
    "from collections import Counter\n",
    "\n",
    "with open(\"puzzle_input.txt\", \"r\") as file:\n",
    "    data = list(map(int, file.read().split()))\n",
    "\n",
    "list1, list2 = data[::2], data[1::2]\n",
    "\n",
    "\n",
    "solution1 = sum(abs(a - b) for a, b in zip(sorted(list1), sorted(list2)))\n",
    "\n",
    "\n",
    "print(f\"Part 1 Solution: {solution1}\")\n",
    "\n",
    "frequency = Counter(list2)\n",
    "\n",
    "\n",
    "solution2 = sum(frequency[element] * element for element in list1)\n",
    "\n",
    "\n",
    "print(f\"Part 2 Solution: {solution2}\")\n"
   ]
  }
 ],
 "metadata": {
  "kernelspec": {
   "display_name": "Python 3",
   "language": "python",
   "name": "python3"
  },
  "language_info": {
   "codemirror_mode": {
    "name": "ipython",
    "version": 3
   },
   "file_extension": ".py",
   "mimetype": "text/x-python",
   "name": "python",
   "nbconvert_exporter": "python",
   "pygments_lexer": "ipython3",
   "version": "3.10.1"
  }
 },
 "nbformat": 4,
 "nbformat_minor": 2
}
