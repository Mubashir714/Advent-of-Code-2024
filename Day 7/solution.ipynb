{
 "cells": [
  {
   "cell_type": "code",
   "execution_count": null,
   "metadata": {},
   "outputs": [],
   "source": [
    "import sys\n",
    "import re\n",
    "from collections import defaultdict, Counter, deque\n",
    "import pyperclip as pc\n",
    "def pr(s):\n",
    "    print(s)\n",
    "    pc.copy(s)\n",
    "sys.setrecursionlimit(10**6)\n",
    "infile = \"input.txt\"\n",
    "p1 = 0\n",
    "p2 = 0\n",
    "D = open(infile).read().strip()\n",
    "\n",
    "def is_valid(target, ns, p2):\n",
    "    if len(ns) == 1:\n",
    "        return ns[0]==target\n",
    "    if is_valid(target, [ns[0]+ns[1]] + ns[2:], p2):\n",
    "        return True\n",
    "    if is_valid(target, [ns[0]*ns[1]] + ns[2:], p2):\n",
    "        return True\n",
    "    if p2 and is_valid(target, [int(str(ns[0])+str(ns[1]))] + ns[2:], p2):\n",
    "        return True\n",
    "    return False\n",
    "\n",
    "for line in D.strip().split('\\n'):\n",
    "    target, ns = line.strip().split(':')\n",
    "    target = int(target)\n",
    "    ns = [int(x) for x in ns.strip().split()]\n",
    "    if is_valid(target, ns, p2=False):\n",
    "        p1 += target\n",
    "    if is_valid(target, ns, p2=True):\n",
    "        p2 += target\n",
    "\n",
    "pr(p1)\n",
    "pr(p2)"
   ]
  }
 ],
 "metadata": {
  "kernelspec": {
   "display_name": "Python 3",
   "language": "python",
   "name": "python3"
  },
  "language_info": {
   "codemirror_mode": {
    "name": "ipython",
    "version": 3
   },
   "file_extension": ".py",
   "mimetype": "text/x-python",
   "name": "python",
   "nbconvert_exporter": "python",
   "pygments_lexer": "ipython3",
   "version": "3.10.1"
  }
 },
 "nbformat": 4,
 "nbformat_minor": 2
}
